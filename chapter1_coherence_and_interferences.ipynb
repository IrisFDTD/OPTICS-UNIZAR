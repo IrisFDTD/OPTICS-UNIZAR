{
  "nbformat": 4,
  "nbformat_minor": 0,
  "metadata": {
    "colab": {
      "provenance": [],
      "toc_visible": true,
      "authorship_tag": "ABX9TyPK0MBJ64euC+EjzO9hKrtr",
      "include_colab_link": true
    },
    "kernelspec": {
      "name": "python3",
      "display_name": "Python 3"
    },
    "language_info": {
      "name": "python"
    }
  },
  "cells": [
    {
      "cell_type": "markdown",
      "metadata": {
        "id": "view-in-github",
        "colab_type": "text"
      },
      "source": [
        "<a href=\"https://colab.research.google.com/github/IrisFDTD/OPTICS-UNIZAR/blob/main/chapter1_coherence_and_interferences.ipynb\" target=\"_parent\"><img src=\"https://colab.research.google.com/assets/colab-badge.svg\" alt=\"Open In Colab\"/></a>"
      ]
    },
    {
      "cell_type": "markdown",
      "source": [
        "<a rel=\"license\" href=\"http://creativecommons.org/licenses/by-nc-sa/4.0/\"><img alt=\"Licencia Creative Commons\" style=\"border-width:0\" src=\"https://i.creativecommons.org/l/by-nc-sa/4.0/88x31.png\" /></a><br /><span xmlns:dct=\"http://purl.org/dc/terms/\" property=\"dct:title\"></span> The following notes written by  <span xmlns:cc=\"http://creativecommons.org/ns#\" property=\"cc:attributionName\">Sergio Gutiérrez Rodrigo (<sergut@unizar.es>) </span>. Distributed under  <a rel=\"license\" href=\"http://creativecommons.org/licenses/by-nc-sa/4.0/\">License Creative Commons Atribución-NoComercial-CompartirIgual 4.0 Internacional</a>\n",
        "\n"
      ],
      "metadata": {
        "id": "tYZjdh8TvE7-"
      }
    },
    {
      "cell_type": "markdown",
      "source": [
        "```\n",
        "Departamento de Física Aplicada\n",
        "Universidad de Zaragoza\n",
        "Instituto de Nanociencia y Materiales de Aragón (INMA)\n",
        "C/ Pedro Cerbuna, 12, 50009, Zaragoza, España\n",
        "```\n",
        "\n",
        "\n",
        "\n",
        "\n"
      ],
      "metadata": {
        "id": "j2H5UHGe1Uf8"
      }
    },
    {
      "cell_type": "markdown",
      "source": [
        "**Contributors:**\n",
        "+ ... <...@unizar.es>."
      ],
      "metadata": {
        "id": "7WlUR-bgobGr"
      }
    },
    {
      "cell_type": "markdown",
      "source": [
        "---\n",
        "# **Óptica - Tema 1 - Coherencia e Interferencias**\n",
        "\n",
        "---"
      ],
      "metadata": {
        "id": "D7vYGeB21ZQU"
      }
    },
    {
      "cell_type": "markdown",
      "source": [
        "# Coherencia"
      ],
      "metadata": {
        "id": "_m0cuMqAE0Wr"
      }
    },
    {
      "cell_type": "markdown",
      "source": [
        "## Definición de ondas planas y pulsos gaussianos"
      ],
      "metadata": {
        "id": "EKXxFj93IlzT"
      }
    },
    {
      "cell_type": "code",
      "source": [
        "import numpy as np\n",
        "import matplotlib.pyplot as plt\n",
        "\n",
        "def onda_plana(t, A, τ, ω_0, φ):\n",
        "    \"\"\"\n",
        "    Genera una onda plana dada la frecuencia central y fase.\n",
        "    Las unidades han de ser consistentes entre t, τ y ω_0.\n",
        "    El pulso está normalizado.\n",
        "\n",
        "    La onda plana se caracteriza por un término exponencial complejo que depende de la frecuencia central de la onda\n",
        "    y la fase de la envolvente de la onda portadora.\n",
        "\n",
        "    E(t) = E * exp(i * ω_0 * t) * exp(i * φ(t)) = A * exp(-t² / 2*τ) * exp(i * ( ω_0 * t + φ(t) ) )\n",
        "\n",
        "    Argumentos:\n",
        "        t (float): vector de tiempos\n",
        "        A (float): amplitud del pulso\n",
        "        τ (float): anchura del pulso\n",
        "        ω_0 (float): frecuencia central (radianes / unidad de tiempo)\n",
        "        φ (float): fase de la envolvente de la onda portadora (rad)\n",
        "\n",
        "    Devuelve:\n",
        "        E_pulso (float): forma del pulso gaussiano en el tiempo especificado\n",
        "    \"\"\"\n",
        "\n",
        "    return A * np.exp(1j * ( ω_0 * t + φ ))\n",
        "\n",
        "def pulso_gaussiano(t, A, τ, ω_0, φ):\n",
        "    \"\"\"\n",
        "    Genera un pulso gaussiano dada su duración, frecuencia central y fase.\n",
        "    Las unidades han de ser consistentes entre t, τ y ω_0.\n",
        "    El pulso está normalizado.\n",
        "\n",
        "    Un pulso gaussiano viene caracterizado por una envolvente en forma de gaussiana de expresión:\n",
        "\n",
        "    E_envolvente = A * exp(-t² / 2*τ)\n",
        "\n",
        "    Donde τ es la duración temporal del pulso, que está relacionada con el ancho de banda por la expresión:\n",
        "\n",
        "    τ = FWHM / (2 * √log(2))\n",
        "\n",
        "    FHWM es la anchura a media altura (full width half maximum).\n",
        "\n",
        "    La envolvente viene modulada por un término exponencial complejo que depende de la frecuencia central de la onda,\n",
        "    de manera que el pulso vendrá dado por el producto de la envolvente y esta exponencial, además del producto\n",
        "    con la exponencial compleja que lleva la fase de la envolvente de la onda portadora.\n",
        "\n",
        "    E(t) = E_envolvente * exp(i * ω_0 * t) * exp(i * φ(t)) = A * exp(-t² / 2*τ) * exp(i * ( ω_0 * t + φ(t) ) )\n",
        "\n",
        "    Argumentos:\n",
        "        t (float): vector de tiempos\n",
        "        A (float): amplitud del pulso\n",
        "        τ (float): anchura del pulso\n",
        "        ω_0 (float): frecuencia central (radianes / unidad de tiempo)\n",
        "        φ (float): fase de la envolvente de la onda portadora (rad)\n",
        "\n",
        "    Devuelve:\n",
        "        E_pulso (float): forma del pulso gaussiano en el tiempo especificado\n",
        "    \"\"\"\n",
        "\n",
        "    return A * np.exp(-t*t / (2 * τ)) * np.exp(1j * ( ω_0 * t + φ ))"
      ],
      "metadata": {
        "id": "SIBMiOXCE2at"
      },
      "execution_count": null,
      "outputs": []
    },
    {
      "cell_type": "markdown",
      "source": [
        "## Parámetros"
      ],
      "metadata": {
        "id": "aX-287CO6Vzc"
      }
    },
    {
      "cell_type": "code",
      "source": [
        "c=299792458.0     #m/s\n",
        "pasos_temporales = 1024\n",
        "\n",
        "# -- Parámetros del pulso --\n",
        "A = 1 # Amplitud del pulso\n",
        "λ_0 = 100.55 # Longitud de onda de ejemplo (en micrómetros)\n",
        "ω_0 = 2 * np.pi * c * 1e-12 / (λ_0 * 1e-6) # Frecuencia angular del pulso (rad / ps)\n",
        "τ = 1 # Duración del pulso (ps)\n",
        "to=10*τ\n",
        "t, Δt = np.linspace(0, 20, num=pasos_temporales, retstep=True) # Vector de tiempos (centrado en cero, ps). Guardamos la separación entre datos\n",
        "print(\"Δt (ps)=\",Δt)\n",
        "fs=1/Δt\n",
        "print(\"fs=1/Δt sampling rate (1/ps)=\",fs)\n",
        "\n",
        "# Fase\n",
        "#φ_0 =  0* np.ones(pasos_temporales) # Fase (constante en este caso)\n",
        "φ_0 = (t-to)**2"
      ],
      "metadata": {
        "id": "5G8qOMEg5281"
      },
      "execution_count": null,
      "outputs": []
    },
    {
      "cell_type": "markdown",
      "source": [
        "## Cálculo del pulso"
      ],
      "metadata": {
        "id": "cMS7UyuXIVPV"
      }
    },
    {
      "cell_type": "code",
      "source": [
        "onda='gaussiana'\n",
        "if(onda=='onda plana'):\n",
        "  onda =onda_plana(t-to, A, τ, ω_0, φ_0)\n",
        "\n",
        "if(onda=='gaussiana'):\n",
        "  onda=pulso_gaussiano(t-to, A, τ, ω_0, φ_0) # Vector con el campo complejo del pulso\n"
      ],
      "metadata": {
        "id": "J16BhzHbG7PF"
      },
      "execution_count": null,
      "outputs": []
    },
    {
      "cell_type": "markdown",
      "source": [
        "## Representación gráfica"
      ],
      "metadata": {
        "id": "iILvcQsGIZ7P"
      }
    },
    {
      "cell_type": "code",
      "source": [
        "plt.figure(figsize=(16, 4))\n",
        "plt.plot(t,np.real(onda),label='$Re(E(t))$')\n",
        "delay=3.0\n",
        "plt.plot(t+delay,np.real(onda),label=r'$Re(E(t+\\tau))$',\n",
        "                                color='red',linestyle='--')\n",
        "\n",
        "plt.xlabel(r'$t$ (ps)')\n",
        "plt.ylabel(r'$Re(E)$')\n",
        "plt.xlim(0,20)\n",
        "plt.legend()\n",
        "plt.show()"
      ],
      "metadata": {
        "id": "1-vL5MdFHG22"
      },
      "execution_count": null,
      "outputs": []
    },
    {
      "cell_type": "markdown",
      "source": [
        "# Interferencias: franjas de Young"
      ],
      "metadata": {
        "id": "ub2w4ZjaszqB"
      }
    },
    {
      "cell_type": "markdown",
      "source": [
        "Intensidad franjas de Young para espectro simétrico:\n",
        "\n",
        "$$I=I_1+I_2+2\\sqrt{I_1 I_2}\\gamma_c(\\tau_s+\\tau) \\cos(\\delta)$$ donde $\\delta=\\omega_0(\\tau_s+\\tau)$"
      ],
      "metadata": {
        "id": "7KHu05U6hX5-"
      }
    },
    {
      "cell_type": "markdown",
      "source": [
        "Siendo $$\\gamma_c(\\tau) = \\int_{-\\infty}^{+\\infty}g(x)cos(2\\pi \\, x \\, \\tau)\\,dx$$ donde $x=\\nu -\\nu_0$"
      ],
      "metadata": {
        "id": "LG-DZo2_gvC-"
      }
    },
    {
      "cell_type": "markdown",
      "source": [
        "## Observación en función de las coordenadas $x,y$ de la pantalla."
      ],
      "metadata": {
        "id": "eTZ1bSydshTY"
      }
    },
    {
      "cell_type": "markdown",
      "source": [
        "![image.png](data:image/png;base64,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)"
      ],
      "metadata": {
        "id": "kGcdc_ipzoc3"
      }
    },
    {
      "cell_type": "markdown",
      "source": [
        "Delta se puede escribir como: $\\delta=\\omega_0(\\tau_s+\\tau)=\\dfrac{2\\pi \\, n}{\\lambda_0}(\\Delta_s+\\Delta)$\n",
        "donde\n",
        "+ $\\Delta_s=\\overline{SS_2}-\\overline{SS_1}$\n",
        "+ $\\Delta_s=\\overline{S_2P}-\\overline{S_1P}$\n",
        "\n",
        "\n",
        "Aproximaciones:\n",
        "1. $x_s,d << D_1$ : fuente \"casi\" alineada con el eje $z$. Distancia entre aperturas pequeña en comparación con la distancia entre el plano de la fuente y el de las aperturas.\n",
        "2. $x,y,d << D_2$ : puntos de observación cercanos al eje $z$. Distancia entre aperturas pequeña en comparación con la distancia entre el plano de la de las aperturas y el plano de observación.\n",
        "\n",
        "Utilizando estas aproximaciones se llega a que\n",
        "+ $\\Delta_s=\\dfrac{x_s d}{D_1}$\n",
        "+ $\\Delta_s=\\dfrac{x d}{D_2}$\n",
        "\n",
        "---\n",
        "*En el código $(x,y)=(x_p,y_p)$*"
      ],
      "metadata": {
        "id": "u1Ts2nFHx-wn"
      }
    },
    {
      "cell_type": "markdown",
      "source": [
        "## Ejemplo $g(\\nu)\\rightarrow$ Tipo \"perfil cuadrado\" (simétrico)"
      ],
      "metadata": {
        "id": "4ISaf6YksUSQ"
      }
    },
    {
      "cell_type": "markdown",
      "source": [
        "![image.png](data:image/png;base64,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)"
      ],
      "metadata": {
        "id": "-IPsgFunnuZM"
      }
    },
    {
      "cell_type": "markdown",
      "source": [
        "$\\gamma(\\tau)=e^{\\imath 2 \\pi \\nu_0 \\tau} \\dfrac{\\sin{(\\pi \\Delta \\nu \\, \\tau)}}{\\pi \\Delta \\nu \\, \\tau}$\n",
        "\n",
        "$\\implies \\gamma_c(\\tau)=\\dfrac{\\sin{(\\pi \\Delta \\nu \\, \\tau)}}{\\pi \\Delta \\nu \\, \\tau}$"
      ],
      "metadata": {
        "id": "Oc-EILeqzt-R"
      }
    },
    {
      "cell_type": "markdown",
      "source": [
        "## Función de Python para calcular la intensidad de las franjas de Young (aproximación)"
      ],
      "metadata": {
        "id": "CiEdVeSX1Dve"
      }
    },
    {
      "cell_type": "code",
      "source": [
        "import numpy as np\n",
        "\n",
        "def intensidad_young(xp,I1,I2,lambda_nm,n,d,D1,D2,xs,gamma_tipo='onda plana'):\n",
        "  # Longitud de onda, k y frecuencia angular\n",
        "  c=299792458.0     #m/s\n",
        "  lambda0=lambda_nm*1e-9\n",
        "  k = 2.0 * np.pi / lambda0\n",
        "  omega0=c*k\n",
        "\n",
        "  # Cálculo de delta\n",
        "  delta= (2.0*np.pi*n/lambda0)*(xs*d/D1+xp*d/D2)\n",
        "\n",
        "  # Se selecciona el tipo de onda (gamma_c)\n",
        "  # Por defecto 'onda plana'\n",
        "  # Se pueden añadir tantas como se quiera\n",
        "  if(gamma_tipo=='onda plana'):\n",
        "    gamma_c=1.0\n",
        "\n",
        "  if(gamma_tipo=='perfil cuadrado'):\n",
        "    tau=delta/omega0\n",
        "    delta_lambda=10.0 #nm # delta_lambda=0.0 --> onda plana\n",
        "    lambda_i=lambda0-delta_lambda*1e-9\n",
        "    lambda_f=lambda0+delta_lambda*1e-9\n",
        "    delta_nu =c*(lambda_i-lambda_f)/(lambda_f*lambda_i)\n",
        "\n",
        "    #delta_nu=1.0e-1*omega0/(2.0*np.pi)\n",
        "    gamma_c= np.sinc(np.pi*delta_nu*tau)\n",
        "\n",
        "  # Cálculo de la intensidad\n",
        "  return I1+I2+2.0*np.sqrt(I1*I2)*gamma_c*np.cos(delta)"
      ],
      "metadata": {
        "id": "dIwVLUsVe7L7"
      },
      "execution_count": null,
      "outputs": []
    },
    {
      "cell_type": "markdown",
      "source": [
        "# Parámetros geométricos"
      ],
      "metadata": {
        "id": "31WL-PawSmg-"
      }
    },
    {
      "cell_type": "markdown",
      "source": [
        "+ $D_1$   (distancia entre el plano de la fuente en $S$ y el plano que contiene a las aperturas)\n",
        "+ $D_2$  (distancia entre el plano que contiene a las aperturas y la \"pantalla\" de observación)\n",
        "+ $d$  (distancia entre las aperturas)\n",
        "+ $x_s$  (coordenada de la fuente en el eje $x$ )\n",
        "+ $\\lambda$ (longitud de onda)\n",
        "+ $n$ (índice de refracción del medio)"
      ],
      "metadata": {
        "id": "_r612Tx2Q3eY"
      }
    },
    {
      "cell_type": "code",
      "source": [
        "# Intensidades\n",
        "I1,I2=1.0,1.0 # Unidades arbitrarias\n",
        "\n",
        "# Índice de refracción\n",
        "n=1.0\n",
        "\n",
        "# Distancias\n",
        "D1=1.0  # m\n",
        "D2=1.0  # m\n",
        "d=0.001 # m\n",
        "xs=0.0 # m\n",
        "\n",
        "# Parámetros electromagnéticos\n",
        "c=299792458.0     #m/s\n",
        "lambda_nm = 600.0 # nm\n",
        "lambda0=lambda_nm*1e-9\n",
        "k = 2.0 * np.pi / lambda0\n",
        "omega0=c*k\n",
        "\n",
        "print(\"Frecuencia central=\",np.round(omega0*1e-12/(2.0*np.pi),2),\"THz\")\n",
        "\n",
        "# gamma_c\n",
        "gamma_tipo='perfil cuadrado'"
      ],
      "metadata": {
        "id": "zeQjDEdwSplf"
      },
      "execution_count": null,
      "outputs": []
    },
    {
      "cell_type": "markdown",
      "source": [
        "# Experimento de Young en la dirección $x$ ($y=0$)"
      ],
      "metadata": {
        "id": "Hs2F_KgvDsaS"
      }
    },
    {
      "cell_type": "markdown",
      "source": [
        "## Cálculo de la intensidad"
      ],
      "metadata": {
        "id": "x6yoGDdvZ9R7"
      }
    },
    {
      "cell_type": "code",
      "source": [
        "def calc_intensity_pattern():\n",
        "    Xp=400\n",
        "    m=10\n",
        "    xpm = (2*m+1)*lambda0*D2/(2.0*d)-xs*D2/D1\n",
        "    diff_pattern = []\n",
        "    for i in range(Xp):\n",
        "      print(\"x iteration\",i,' of ',Xp)\n",
        "      xp=xpm * (Xp - 2 * i) / Xp\n",
        "      I_analytic=intensidad_young(xp,I1,I2,lambda_nm,n,d,D1,D2,xs,\n",
        "                                  gamma_tipo=gamma_tipo)\n",
        "      diff_pattern.append([xp,I_analytic])\n",
        "    return np.array(diff_pattern)\n",
        "\n",
        "# Calculo de la intensidad\n",
        "intensity_pattern=calc_intensity_pattern()"
      ],
      "metadata": {
        "id": "wPzGpwenEAp2"
      },
      "execution_count": null,
      "outputs": []
    },
    {
      "cell_type": "markdown",
      "source": [
        "## Figura estática"
      ],
      "metadata": {
        "id": "mgEJ9uPPr5y-"
      }
    },
    {
      "cell_type": "code",
      "source": [
        "import matplotlib.pyplot as plt\n",
        "x=intensity_pattern[:,0]\n",
        "y_analytic=intensity_pattern[:,1]\n",
        "plt.plot(x,y_analytic,label='Analytic')\n",
        "\n",
        "plt.xlabel(r'$x$ (m)')\n",
        "plt.ylabel('Intensity')\n",
        "plt.legend()\n",
        "plt.show()"
      ],
      "metadata": {
        "id": "T6Py4-VcDspb"
      },
      "execution_count": null,
      "outputs": []
    },
    {
      "cell_type": "markdown",
      "source": [
        "# Experimento de Young plano $XY$"
      ],
      "metadata": {
        "id": "40xc5XwuN2dy"
      }
    },
    {
      "cell_type": "markdown",
      "source": [
        "## Cálculo de la intensidad"
      ],
      "metadata": {
        "id": "c-6vG45PaHdx"
      }
    },
    {
      "cell_type": "code",
      "source": [
        "def calc_intensity_pattern_2D():\n",
        "    Xp,Yp=400,400\n",
        "    m=10\n",
        "    xpm = (2*m+1)*lambda0*D2/(2.0*d)-xs*D2/D1\n",
        "    ypm = xpm\n",
        "    diff_pattern = []\n",
        "    for i in range(Xp):\n",
        "      print(\"x iteration\",i,' of ',Xp)\n",
        "      xp=xpm * (Xp - 2 * i) / Xp\n",
        "      for j in range(Yp):\n",
        "        yp=ypm * (Yp - 2 * j) / Yp\n",
        "        I_analytic=intensidad_young(xp,I1,I2,lambda_nm,n,d,D1,D2,xs,\n",
        "                                  gamma_tipo=gamma_tipo)\n",
        "        diff_pattern.append([xp,yp,I_analytic])\n",
        "    return np.array(diff_pattern)\n",
        "\n",
        "intensity_pattern_2D=calc_intensity_pattern_2D()"
      ],
      "metadata": {
        "id": "qm2CKK5dro-J"
      },
      "execution_count": null,
      "outputs": []
    },
    {
      "cell_type": "markdown",
      "source": [
        "## Figura estática"
      ],
      "metadata": {
        "id": "4qE5xkHUU9Ry"
      }
    },
    {
      "cell_type": "code",
      "source": [
        "import numpy as np\n",
        "import matplotlib.pyplot as plt\n",
        "\n",
        "# Generate some sample data (replace this with your numpy array)\n",
        "data =intensity_pattern_2D\n",
        "\n",
        "# Extract x, y, and the value from the data\n",
        "x = data[:, 0]\n",
        "y = data[:, 1]\n",
        "value = data[:, 2]\n",
        "\n",
        "# Reshape the value to a 2D grid for contour plotting\n",
        "x_unique = np.unique(x)\n",
        "y_unique = np.unique(y)\n",
        "X, Y = np.meshgrid(x_unique, y_unique)\n",
        "Z = value.reshape(len(y_unique), len(x_unique))\n",
        "\n",
        "\n",
        "# Create a contour plot\n",
        "plt.figure(figsize=(12, 2))\n",
        "max_value=np.max(Z)/1.0\n",
        "contour = plt.contourf(X, Y,  np.rot90(Z), levels=500, cmap='viridis',\n",
        "                       vmax=max_value)\n",
        "plt.colorbar(contour)  # Use scientific notation for colorbar\n",
        "\n",
        "\n",
        "plt.xlabel('X (m)')\n",
        "plt.ylabel('Y (m)')\n",
        "plt.title('Intensity')\n",
        "plt.show()\n"
      ],
      "metadata": {
        "id": "i1N1KpD4NaGo"
      },
      "execution_count": null,
      "outputs": []
    },
    {
      "cell_type": "markdown",
      "source": [
        "## Figura dinámica"
      ],
      "metadata": {
        "id": "qGrtluxkT2Wf"
      }
    },
    {
      "cell_type": "code",
      "source": [
        "import matplotlib.pyplot as plt\n",
        "import numpy as np\n",
        "import ipywidgets as widgets\n",
        "from ipywidgets import interactive\n",
        "from ipywidgets import SelectionSlider\n",
        "\n",
        "def plot_function_with_sliders(f, labels, x_min, y_min,ref_x,max_y,value_scale):\n",
        "    # Extract the parameter names from the function signature, excluding 'x'\n",
        "    # and the last\n",
        "    parameters = list(f.__code__.co_varnames)[1:f.__code__.co_argcount-1]\n",
        "\n",
        "    # Create sliders for each parameter\n",
        "    # Define the base, min exponent, and max exponent for the slider\n",
        "    sliders = {}\n",
        "    i=0\n",
        "    for param in parameters:\n",
        "        #print(\"parameter=\",param)\n",
        "        #print(\"[initial value, min, max, step]=\",value_scale[i])\n",
        "        sliders[param] = widgets.FloatSlider(value=value_scale[i][0],\n",
        "                                             min=value_scale[i][1],\n",
        "                                             max=value_scale[i][2],\n",
        "                                             step=value_scale[i][3],\n",
        "                                             description=param,\n",
        "                                             readout_format='.4f')\n",
        "        i+=1\n",
        "    # Create sliders for x_max and y_max\n",
        "    #print(\"x max\")\n",
        "    #print(\"[initial value, min, max, step]=\",value_scale[i])\n",
        "    x_max_slider = widgets.FloatSlider(value=value_scale[i][0],\n",
        "                                       min=value_scale[i][1],\n",
        "                                       max=value_scale[i][2],\n",
        "                                       step=value_scale[i][3],\n",
        "                                       description='x scale',\n",
        "                                       readout_format='.4f')\n",
        "    i+=1\n",
        "    #print(\"y max\")\n",
        "    #print(\"[initial value, min, max, step]=\",value_scale[i])\n",
        "    y_max_slider = widgets.FloatSlider(value=value_scale[i][0],\n",
        "                                       min=value_scale[i][1],\n",
        "                                       max=value_scale[i][2],\n",
        "                                       step=value_scale[i][3],\n",
        "                                       description='y scale',\n",
        "                                       readout_format='.4f')\n",
        "\n",
        "    # Define a function to update the plot\n",
        "    def update_plot(**kwargs):\n",
        "        N=200\n",
        "        # Extract x, y, and the value from the data\n",
        "        x = np.linspace(x_min-x_max_slider.value, abs(x_min)+x_max_slider.value, N)\n",
        "        y = np.linspace(y_min-y_max_slider.value, abs(y_min)+y_max_slider.value, N)\n",
        "\n",
        "        # Pass slider values as keyword arguments to the input function\n",
        "        params = {param: slider.value for param, slider in sliders.items()}\n",
        "        params['gamma_tipo'] = value_scale[-1][0]\n",
        "\n",
        "        # Cálculo de la función\n",
        "        Z =f(x, **params)\n",
        "\n",
        "        # Reshape the value to a 2D grid for contour plotting\n",
        "        x_unique = np.unique(x)\n",
        "        y_unique = np.unique(y)\n",
        "        X, Y = np.meshgrid(x_unique, y_unique)\n",
        "\n",
        "        # Repeat the row N times to create a (N,N) array\n",
        "        Z = np.tile(Z, (N, 1))\n",
        "\n",
        "        # Result as a (N, N) array\n",
        "        Z = Z.T  # Transpose the array\n",
        "        Z = Z.reshape(len(y_unique), len(x_unique))\n",
        "\n",
        "        # Create a contour plot\n",
        "        plt.figure(figsize=(12, 2))\n",
        "        max_value=np.max(Z)\n",
        "        print(\"Valor mínimo=\",np.min(Z))\n",
        "        print(\"Valor máximo=\",max_value)\n",
        "        contour = plt.contourf(X, Y,  np.rot90(Z), levels=50, cmap='viridis')\n",
        "\n",
        "        # Set the minimum and maximum values for the colorbar\n",
        "        contour.set_clim(0.0,max_value)  # Set the desired min and max values here\n",
        "\n",
        "        plt.colorbar(contour)\n",
        "\n",
        "        plt.xlim((x_min-x_max_slider.value)/ref_x, (abs(x_min)+x_max_slider.value)/ref_x)\n",
        "        plt.ylim((y_min-y_max_slider.value)/ref_x, (abs(y_min)+y_max_slider.value)/ref_x)\n",
        "        plt.xlabel(labels[0])\n",
        "        plt.ylabel(labels[1])\n",
        "        plt.title('Intensity')\n",
        "        plt.show()\n",
        "\n",
        "    # Create an interactive plot with the sliders\n",
        "    interactive_plot = interactive(update_plot, **sliders, x_max=x_max_slider, y_max=y_max_slider)\n",
        "    return interactive_plot"
      ],
      "metadata": {
        "id": "HXhPvAk_T2cu"
      },
      "execution_count": null,
      "outputs": []
    },
    {
      "cell_type": "code",
      "source": [
        "# Example of an input function\n",
        "function=intensidad_young\n",
        "\n",
        "\n",
        "# Define labels, axis limits, and initial parameter values\n",
        "labels = [r'$x(m)$', r'$y(m)$']\n",
        "m=10\n",
        "xpm = (2*m+1)*lambda0*D2/(2.0*d)-xs*D2/D1\n",
        "x_min = -xpm\n",
        "y_min = -xpm\n",
        "max_y = 1.0\n",
        "ref_x = 1.0 #lambda0*D2/d\n",
        "# value_scale (each): [initial value, min,max,step]\n",
        "value_scale=[[I1,1e-4*I1,10*I1,0.01*I1], # I1\n",
        "             [I2,1e-4*I2,10*I2,0.01*I2], # I2\n",
        "             [lambda_nm,0.1*lambda_nm,3.0*lambda_nm,0.1*lambda_nm],      # lambda (wavelength) in nm\n",
        "             [n,1.0,3.5,0.1],           # n\n",
        "             [d,0.1*d,10*d,0.05*d],     # d\n",
        "             [D1,0.1*D1,10*D1,0.05*D1], # D1\n",
        "             [D2,0.1*D2,10*D2,0.05*D2], # D2\n",
        "             [xs,0.0,1e-2,1e-3],        # xs\n",
        "             [-xpm,0.1*xpm,10*xpm,0.05*xpm],    # x scale\n",
        "             [-xpm,0.1*xpm,10*xpm,0.05*xpm],    # y scale\n",
        "             [gamma_tipo]]       # tipo gamma\n",
        "\n",
        "# Create the interactive plot\n",
        "interactive_plot = plot_function_with_sliders(function,\n",
        "                                              labels,\n",
        "                                              x_min, y_min,\n",
        "                                              ref_x,max_y,\n",
        "                                              value_scale)\n",
        "\n",
        "# Display the interactive plot\n",
        "interactive_plot"
      ],
      "metadata": {
        "id": "-yGvE2xSXuHI"
      },
      "execution_count": null,
      "outputs": []
    }
  ]
}