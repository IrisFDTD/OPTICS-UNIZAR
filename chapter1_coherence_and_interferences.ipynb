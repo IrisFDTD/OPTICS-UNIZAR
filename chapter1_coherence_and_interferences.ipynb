{
  "nbformat": 4,
  "nbformat_minor": 0,
  "metadata": {
    "colab": {
      "provenance": [],
      "toc_visible": true,
      "authorship_tag": "ABX9TyOQ3VNBuCwAsZx+Prbq0eVD",
      "include_colab_link": true
    },
    "kernelspec": {
      "name": "python3",
      "display_name": "Python 3"
    },
    "language_info": {
      "name": "python"
    }
  },
  "cells": [
    {
      "cell_type": "markdown",
      "metadata": {
        "id": "view-in-github",
        "colab_type": "text"
      },
      "source": [
        "<a href=\"https://colab.research.google.com/github/IrisFDTD/OPTICS-UNIZAR/blob/main/chapter1_coherence_and_interferences.ipynb\" target=\"_parent\"><img src=\"https://colab.research.google.com/assets/colab-badge.svg\" alt=\"Open In Colab\"/></a>"
      ]
    },
    {
      "cell_type": "markdown",
      "source": [
        "<a rel=\"license\" href=\"http://creativecommons.org/licenses/by-nc-sa/4.0/\"><img alt=\"Licencia Creative Commons\" style=\"border-width:0\" src=\"https://i.creativecommons.org/l/by-nc-sa/4.0/88x31.png\" /></a><br /><span xmlns:dct=\"http://purl.org/dc/terms/\" property=\"dct:title\"></span> The following notes written by  <span xmlns:cc=\"http://creativecommons.org/ns#\" property=\"cc:attributionName\">Sergio Gutiérrez Rodrigo (<sergut@unizar.es>) </span>. Distributed under  <a rel=\"license\" href=\"http://creativecommons.org/licenses/by-nc-sa/4.0/\">License Creative Commons Atribución-NoComercial-CompartirIgual 4.0 Internacional</a>\n",
        "\n"
      ],
      "metadata": {
        "id": "tYZjdh8TvE7-"
      }
    },
    {
      "cell_type": "markdown",
      "source": [
        "```\n",
        "Departamento de Física Aplicada\n",
        "Universidad de Zaragoza\n",
        "Instituto de Nanociencia y Materiales de Aragón (INMA)\n",
        "C/ Pedro Cerbuna, 12, 50009, Zaragoza, España\n",
        "```\n",
        "\n",
        "\n",
        "\n",
        "\n"
      ],
      "metadata": {
        "id": "j2H5UHGe1Uf8"
      }
    },
    {
      "cell_type": "markdown",
      "source": [
        "**Contributors:**\n",
        "+ ... <...@unizar.es>."
      ],
      "metadata": {
        "id": "7WlUR-bgobGr"
      }
    },
    {
      "cell_type": "markdown",
      "source": [
        "---\n",
        "# **Óptica - Tema 1 - Coherencia e Interferencias**\n",
        "\n",
        "---"
      ],
      "metadata": {
        "id": "D7vYGeB21ZQU"
      }
    },
    {
      "cell_type": "markdown",
      "source": [
        "# Coherencia"
      ],
      "metadata": {
        "id": "_m0cuMqAE0Wr"
      }
    },
    {
      "cell_type": "markdown",
      "source": [
        "## Definición de ondas planas y pulsos (gaussiano, sinc)"
      ],
      "metadata": {
        "id": "EKXxFj93IlzT"
      }
    },
    {
      "cell_type": "code",
      "source": [
        "import numpy as np\n",
        "import matplotlib.pyplot as plt\n",
        "\n",
        "def onda_plana(t, A, σ, ω_0, φ):\n",
        "    \"\"\"\n",
        "    Genera una onda plana dada la frecuencia central y fase.\n",
        "    Las unidades han de ser consistentes entre t, σ y ω_0.\n",
        "    El pulso está normalizado.\n",
        "\n",
        "    La onda plana se caracteriza por un término exponencial complejo que depende de la frecuencia central de la onda\n",
        "    y la fase de la envolvente de la onda portadora.\n",
        "\n",
        "    E(t) = E * exp(i * ω_0 * t) * exp(i * φ(t)) = A * exp(-t² / 2*σ) * exp(i * ( ω_0 * t + φ(t) ) )\n",
        "\n",
        "    Argumentos:\n",
        "        t (float): vector de tiempos\n",
        "        A (float): amplitud del pulso\n",
        "        σ (float): anchura del pulso\n",
        "        ω_0 (float): frecuencia central (radianes / unidad de tiempo)\n",
        "        φ (float): fase de la envolvente de la onda portadora (rad)\n",
        "\n",
        "    Devuelve:\n",
        "        E_pulso (float): forma del pulso gaussiano en el tiempo especificado\n",
        "    \"\"\"\n",
        "\n",
        "    return A * np.exp(1j * ( ω_0 * t + φ ))\n",
        "\n",
        "def pulso_gaussiano(t, A, σ, ω_0, φ):\n",
        "    \"\"\"\n",
        "    Genera un pulso gaussiano dada su duración, frecuencia central y fase.\n",
        "    Las unidades han de ser consistentes entre t, σ y ω_0.\n",
        "    El pulso está normalizado.\n",
        "\n",
        "    Un pulso gaussiano viene caracterizado por una envolvente en forma de gaussiana de expresión:\n",
        "\n",
        "    E_envolvente = A * exp(-t² / 2*σ)\n",
        "\n",
        "    Donde σ es la duración temporal del pulso, que está relacionada con el ancho de banda por la expresión:\n",
        "\n",
        "    σ = FWHM / (2 * √log(2))\n",
        "\n",
        "    FHWM es la anchura a media altura (full width half maximum).\n",
        "\n",
        "    La envolvente viene modulada por un término exponencial complejo que depende de la frecuencia central de la onda,\n",
        "    de manera que el pulso vendrá dado por el producto de la envolvente y esta exponencial, además del producto\n",
        "    con la exponencial compleja que lleva la fase de la envolvente de la onda portadora.\n",
        "\n",
        "    E(t) = E_envolvente * exp(i * ω_0 * t) * exp(i * φ(t)) = A * exp(-t² / 2*σ) * exp(i * ( ω_0 * t + φ(t) ) )\n",
        "\n",
        "    Argumentos:\n",
        "        t (float): vector de tiempos\n",
        "        A (float): amplitud del pulso\n",
        "        σ (float): anchura del pulso\n",
        "        ω_0 (float): frecuencia central (radianes / unidad de tiempo)\n",
        "        φ (float): fase de la envolvente de la onda portadora (rad)\n",
        "\n",
        "    Devuelve:\n",
        "        E_pulso (float): forma del pulso gaussiano en el tiempo especificado\n",
        "    \"\"\"\n",
        "\n",
        "    return A * np.exp(-t*t / (2 * σ)) * np.exp(1j * ( ω_0 * t + φ ))\n",
        "\n",
        "def pulso_sinc(t, A, σ, ω_0, φ):\n",
        "    \"\"\"\n",
        "    Genera un pulso tipo sinc() gaussiano dada su duración, frecuencia central y fase.\n",
        "    Las unidades han de ser consistentes entre t, σ y ω_0.\n",
        "    El pulso está normalizado.\n",
        "\n",
        "    Un pulso gaussiano viene caracterizado por una envolvente en forma de gaussiana de expresión:\n",
        "\n",
        "    E_envolvente = A * sinc(t /*σ)\n",
        "\n",
        "\n",
        "    La envolvente viene modulada por un término exponencial complejo que depende de la frecuencia central de la onda,\n",
        "    de manera que el pulso vendrá dado por el producto de la envolvente y esta exponencial, además del producto\n",
        "    con la exponencial compleja que lleva la fase de la envolvente de la onda portadora.\n",
        "\n",
        "    E(t) = E_envolvente * exp(i * ω_0 * t) * exp(i * φ(t)) =A * sinc(t /σ) * exp(i * ( ω_0 * t + φ(t) ) )\n",
        "\n",
        "    Los primeros mínimos se encuentran en +-pi*σ\n",
        "\n",
        "    Argumentos:\n",
        "        t (float): vector de tiempos\n",
        "        A (float): amplitud del pulso\n",
        "        σ (float): anchura del pulso\n",
        "        ω_0 (float): frecuencia central (radianes / unidad de tiempo)\n",
        "        φ (float): fase de la envolvente de la onda portadora (rad)\n",
        "\n",
        "    Devuelve:\n",
        "        E_pulso (float): forma del pulso gaussiano en el tiempo especificado\n",
        "    \"\"\"\n",
        "\n",
        "    return  A*np.sinc(t / (np.pi* σ))*np.exp(1j * ( ω_0 * t + φ )) #np.sinc(x) = np.sin(pi*x)/(pi*x)) https://numpy.org/doc/stable/reference/generated/numpy.sinc.html"
      ],
      "metadata": {
        "id": "SIBMiOXCE2at"
      },
      "execution_count": null,
      "outputs": []
    },
    {
      "cell_type": "markdown",
      "source": [
        "## Parámetros"
      ],
      "metadata": {
        "id": "aX-287CO6Vzc"
      }
    },
    {
      "cell_type": "code",
      "source": [
        "c=299792458.0     #m/s\n",
        "pasos_temporales = 4000\n",
        "\n",
        "# -- Parámetros del pulso --\n",
        "A = 1 # Amplitud del pulso\n",
        "λ_0 = 100.55 # Longitud de onda de ejemplo (en micrómetros)\n",
        "ω_0 = 2 * np.pi * c * 1e-12 / (λ_0 * 1e-6) # Frecuencia angular del pulso (rad / ps)\n",
        "σ = 0.2 # Duración del pulso (ps)\n",
        "t, Δt = np.linspace(0, 200*σ, num=pasos_temporales, retstep=True) # Vector de tiempos (centrado en cero, ps). Guardamos la separación entre datos\n",
        "to=np.max(t)/2\n",
        "print(\"Δt (ps)=\",Δt)\n",
        "fs=1/Δt\n",
        "print(\"fs=1/Δt sampling rate (1/ps)=\",fs)\n"
      ],
      "metadata": {
        "id": "5G8qOMEg5281"
      },
      "execution_count": null,
      "outputs": []
    },
    {
      "cell_type": "markdown",
      "source": [
        "## Cálculo del pulso"
      ],
      "metadata": {
        "id": "cMS7UyuXIVPV"
      }
    },
    {
      "cell_type": "code",
      "source": [
        "tipo_onda='sinc'\n",
        "if(tipo_onda=='onda plana'):\n",
        "  # Fase\n",
        "  φ_0 =  0* np.ones(pasos_temporales) # Fase (constante en este caso)\n",
        "  #φ_0 = (t-to)**2 # Variable con t\n",
        "  onda =onda_plana(t-to, A, σ, ω_0, φ_0)\n",
        "\n",
        "\n",
        "if(tipo_onda=='gaussiana'):\n",
        "  φ_0 =  0* np.ones(pasos_temporales) # Fase (constante en este caso)\n",
        "  onda=pulso_gaussiano(t-to, A, σ, ω_0, φ_0) # Vector con el campo complejo del pulso\n",
        "\n",
        "\n",
        "if(tipo_onda=='sinc'):\n",
        "  φ_0 =  0* np.ones(pasos_temporales) # Fase (constante en este caso)\n",
        "  onda=pulso_sinc(t-to, A, σ, ω_0, φ_0) # Vector con el campo complejo del pulso\n",
        "\n"
      ],
      "metadata": {
        "id": "J16BhzHbG7PF"
      },
      "execution_count": null,
      "outputs": []
    },
    {
      "cell_type": "markdown",
      "source": [
        "## Representación gráfica"
      ],
      "metadata": {
        "id": "iILvcQsGIZ7P"
      }
    },
    {
      "cell_type": "code",
      "source": [
        "plt.figure(figsize=(16, 4))\n",
        "plt.plot(t,np.real(onda),label='$Re(E(t))$')\n",
        "plt.plot(t,np.abs(onda),label='$|E(t)|$')\n",
        "delay=0.0\n",
        "plt.plot(t+delay,np.real(onda),label=r'$Re(E(t+\\tau))$',\n",
        "                                color='red',linestyle='--')\n",
        "plt.axhline(0.0,color='grey',linestyle='--')\n",
        "plt.xlabel(r'$t$ (ps)')\n",
        "plt.ylabel(r'$Re(E)$')\n",
        "plt.axvline(to+np.pi*σ,color='grey',linestyle='--',label=r'$\\pi \\sigma$')\n",
        "#plt.xlim(10,10+2*np.pi*1)\n",
        "plt.legend()\n",
        "plt.show()"
      ],
      "metadata": {
        "id": "1-vL5MdFHG22"
      },
      "execution_count": null,
      "outputs": []
    },
    {
      "cell_type": "markdown",
      "source": [
        "# Cálculo numérico del grado de coherencia $\\gamma(\\tau)$ a partir de $E(t)$"
      ],
      "metadata": {
        "id": "ZKuGqP3xrx0M"
      }
    },
    {
      "cell_type": "markdown",
      "source": [
        "$\\gamma(\\tau)=\\dfrac{\\Gamma(\\tau)}{Y}=\\dfrac{<E^*(t)|E(t+\\tau)>}{<E^*(t)|E(t)>}$"
      ],
      "metadata": {
        "id": "5kXZWEzLrxmr"
      }
    },
    {
      "cell_type": "markdown",
      "source": [
        "**Comentario**: para ondas planas, con o sin fase temporal, el resultado es sólo aproximado. Para poder realizarlo hay que truncar ambas ondas. Serían en realidad paquetes de onda extensos en el tiempo, en lugar de verdaderas ondas planas."
      ],
      "metadata": {
        "id": "1xfiy6_ZMV98"
      }
    },
    {
      "cell_type": "code",
      "source": [
        "def introduce_wave(x,N,pos):\n",
        "    '''\n",
        "    Genera un vector x \"expandido\" incrustando el original en un vector\n",
        "    con más pasos temporales e iniciado con ceros\n",
        "    '''\n",
        "    n=x.shape[0]\n",
        "    y=np.zeros((N*n),dtype=complex)\n",
        "    if n > y.shape[0]:\n",
        "        raise ValueError(\"n should be less than or equal to the number of columns in y.\")\n",
        "    # Copy the y array to avoid modifying it in-place\n",
        "    x_expand = y.copy()\n",
        "    # Determine the starting index for insertion\n",
        "    # Range: 0, y.shape[0] - n + 1\n",
        "    # Substitute the values from x into y\n",
        "    x_expand[ pos:pos + n] = x\n",
        "    return x_expand\n",
        "\n",
        "def gamma_tau(E,tau,shape_ini,times_shape_ini):\n",
        "  '''\n",
        "  Calcula la función de correlación (promedio temporal de E*(t)|E(t+tau))\n",
        "  salvo factores ctes (tiempo de simulación T y dt )\n",
        "  '''\n",
        "  N=times_shape_ini  # Los vectores de campo expandido tendrá N veces el tamaño original\n",
        "  Et=introduce_wave(E,N,int(N*n/2)) # Campo E(t)\n",
        "  Ettau=introduce_wave(E,N,tau)     # Campo E(t+tau)\n",
        "  promedio_temporal=np.sum(np.conjugate(Et)*Ettau) # \"Integral (suma)\" de <E*(t)|E(t+tau)>\n",
        "  return promedio_temporal\n",
        "\n",
        "'''\n",
        "Se calcula la función de correlación, \\Gamma, para muchos valores de tau\n",
        "La idea es \"barrer\" E(t+tau) sobre el campo E(t)\n",
        "'''\n",
        "E=onda # Se ha definido previamente el campo en el array onda\n",
        "n=E.shape[0]\n",
        "N=10\n",
        "Gamma =[]\n",
        "for tau in range(0, n*N - n + 1):\n",
        "  Gamma.append(gamma_tau(E,tau,n,N))\n",
        "Gamma=np.array(Gamma)\n",
        "gamma=Gamma/np.max(Gamma) # Se calcula el grado de coherencia temporal \\gamma"
      ],
      "metadata": {
        "id": "QRYQn8WhuRIK"
      },
      "execution_count": null,
      "outputs": []
    },
    {
      "cell_type": "markdown",
      "source": [
        "## Ejemplo de campo \"expandido\""
      ],
      "metadata": {
        "id": "NC13hMkGwnJe"
      }
    },
    {
      "cell_type": "code",
      "source": [
        "Et=introduce_wave(E,N,int(N*n/2)) #int(N*n/2))\n",
        "t_rango_expand=Δt*(np.linspace(0,Et.shape[0],Et.shape[0]))\n",
        "plt.plot(t_rango_expand,np.real(Et),label=r'Re($E(t))$',\n",
        "                                color='red',linestyle='-')\n",
        "plt.xlabel(r'$t$ (ps)')\n",
        "#plt.xlim(0,0.3)\n",
        "plt.legend()\n",
        "plt.show()"
      ],
      "metadata": {
        "id": "-AwRrhnvjMfZ"
      },
      "execution_count": null,
      "outputs": []
    },
    {
      "cell_type": "markdown",
      "source": [
        "## Representación de $\\gamma (\\tau)$"
      ],
      "metadata": {
        "id": "8ircnlPgwrLI"
      }
    },
    {
      "cell_type": "code",
      "source": [
        "t_max=np.argmax(Gamma)\n",
        "texpand=Δt*(np.linspace(0,Gamma.shape[0],Gamma.shape[0])-t_max)\n",
        "plt.plot(texpand,np.abs(gamma),label=r'|$\\gamma(\\tau)|$',\n",
        "                              color='red',linestyle='-')\n",
        "plt.xlabel(r'$\\tau-\\tau_0$ (ps)')\n",
        "plt.xlim(-100*σ,100*σ)\n",
        "plt.legend()\n",
        "plt.show()"
      ],
      "metadata": {
        "id": "jP-yBlwfsyC8"
      },
      "execution_count": null,
      "outputs": []
    },
    {
      "cell_type": "markdown",
      "source": [
        "## Caso de onda tipo $sinc()$: comparación cálculo numérico vs analítico"
      ],
      "metadata": {
        "id": "6U1zr-2ksW4s"
      }
    },
    {
      "cell_type": "markdown",
      "source": [
        "![image.png](data:image/png;base64,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)"
      ],
      "metadata": {
        "id": "plJW_4w3ttE2"
      }
    },
    {
      "cell_type": "markdown",
      "source": [
        "### Función analítica $\\gamma (\\tau)$ para una distribución espectral tipo salto"
      ],
      "metadata": {
        "id": "1fNKIaqzw0Rh"
      }
    },
    {
      "cell_type": "code",
      "source": [
        "def gamma_sinc_analitica(tau,ω_0):\n",
        "  '''\n",
        "  Podemos obtener gamma analítica para la distribución espectral de tipo salto\n",
        "  Sabiendo que su transformada de Fourier, el pulso E(t), es una función proporcional\n",
        "  a sinc(t).\n",
        "  Definida la onda tipo sinc(t), la ventana de la distribución escalar es:\n",
        "  delta_nu=1/(pi*sigma), donde el mínimo de la onda sinc() ocurre en σ*np.pi\n",
        "  '''\n",
        "  delta_nu=1.0/(σ*np.pi) # en t=σ*np.pi ocurre el mínimo de la onda sinc()\n",
        "  return np.sinc(np.pi*delta_nu*tau*Δt/np.pi)*np.exp(1j*ω_0*tau*Δt) #np.sin(np.pi*delta_nu*tau*Δt)*np.exp(1j*ω_0*tau*Δt)/(np.pi*delta_nu*tau*Δt)\n",
        "\n",
        "Gamma_sinc =[]\n",
        "for tau in range(0, n*N - n + 1):\n",
        "  Gamma_sinc.append(gamma_sinc_analitica(tau,ω_0))\n",
        "\n",
        "Gamma_sinc=np.array(Gamma_sinc)"
      ],
      "metadata": {
        "id": "BZATFBW-xTdz"
      },
      "execution_count": null,
      "outputs": []
    },
    {
      "cell_type": "markdown",
      "source": [
        "### Representación de $\\gamma (\\tau)$"
      ],
      "metadata": {
        "id": "3eSLnr1dxHfo"
      }
    },
    {
      "cell_type": "code",
      "source": [
        "if (tipo_onda=='sinc'):\n",
        "  t_max=np.argmax(Gamma)\n",
        "  texpand=Δt*(np.linspace(0,Gamma.shape[0],Gamma.shape[0])-t_max)\n",
        "  plt.plot(texpand,np.abs(gamma),label=r'|$\\gamma(\\tau)|$ numérica' ,\n",
        "                                color='red',linestyle='-')\n",
        "  texpand=Δt*(np.linspace(0,Gamma.shape[0],Gamma.shape[0]))\n",
        "  plt.plot(texpand,np.abs(Gamma_sinc),label=r'|$\\gamma(\\tau)|$ analítica',\n",
        "                                color='blue',linestyle='--')\n",
        "\n",
        "  plt.axvline(np.pi*σ,color='grey',linestyle='--',label=r'$1/\\Delta \\nu=\\pi \\sigma$')\n",
        "  plt.xlabel(r'$\\tau-\\tau_0$ (ps)')\n",
        "  #plt.ylabel(r'$\\gamma(\\tau)$')\n",
        "  plt.xlim(0,5*np.pi*σ)\n",
        "  plt.legend()\n",
        "  plt.show()"
      ],
      "metadata": {
        "id": "pvutgPN186JN"
      },
      "execution_count": null,
      "outputs": []
    },
    {
      "cell_type": "markdown",
      "source": [
        "# Interferencias: franjas de Young"
      ],
      "metadata": {
        "id": "ub2w4ZjaszqB"
      }
    },
    {
      "cell_type": "markdown",
      "source": [
        "Intensidad franjas de Young para espectro simétrico:\n",
        "\n",
        "$$I=I_1+I_2+2\\sqrt{I_1 I_2}\\gamma_c(\\tau_s+\\tau) \\cos(\\delta)$$ donde $\\delta=\\omega_0(\\tau_s+\\tau)$"
      ],
      "metadata": {
        "id": "7KHu05U6hX5-"
      }
    },
    {
      "cell_type": "markdown",
      "source": [
        "Siendo $$\\gamma_c(\\tau) = \\int_{-\\infty}^{+\\infty}g(x)cos(2\\pi \\, x \\, \\tau)\\,dx$$ donde $x=\\nu -\\nu_0$"
      ],
      "metadata": {
        "id": "LG-DZo2_gvC-"
      }
    },
    {
      "cell_type": "markdown",
      "source": [
        "## Observación en función de las coordenadas $x,y$ de la pantalla."
      ],
      "metadata": {
        "id": "eTZ1bSydshTY"
      }
    },
    {
      "cell_type": "markdown",
      "source": [
        "![image.png](data:image/png;base64,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)"
      ],
      "metadata": {
        "id": "kGcdc_ipzoc3"
      }
    },
    {
      "cell_type": "markdown",
      "source": [
        "Delta se puede escribir como: $\\delta=\\omega_0(\\tau_s+\\tau)=\\dfrac{2\\pi \\, n}{\\lambda_0}(\\Delta_s+\\Delta)$\n",
        "donde\n",
        "+ $\\Delta_s=\\overline{SS_2}-\\overline{SS_1}$\n",
        "+ $\\Delta_s=\\overline{S_2P}-\\overline{S_1P}$\n",
        "\n",
        "\n",
        "Aproximaciones:\n",
        "1. $x_s,d << D_1$ : fuente \"casi\" alineada con el eje $z$. Distancia entre aperturas pequeña en comparación con la distancia entre el plano de la fuente y el de las aperturas.\n",
        "2. $x,y,d << D_2$ : puntos de observación cercanos al eje $z$. Distancia entre aperturas pequeña en comparación con la distancia entre el plano de la de las aperturas y el plano de observación.\n",
        "\n",
        "Utilizando estas aproximaciones se llega a que\n",
        "+ $\\Delta_s=\\dfrac{x_s d}{D_1}$\n",
        "+ $\\Delta_s=\\dfrac{x d}{D_2}$\n",
        "\n",
        "---\n",
        "*En el código $(x,y)=(x_p,y_p)$*"
      ],
      "metadata": {
        "id": "u1Ts2nFHx-wn"
      }
    },
    {
      "cell_type": "markdown",
      "source": [
        "## Ejemplo $g(\\nu)\\rightarrow$ Tipo \"perfil cuadrado\" (simétrico)"
      ],
      "metadata": {
        "id": "4ISaf6YksUSQ"
      }
    },
    {
      "cell_type": "markdown",
      "source": [
        "![image.png](data:image/png;base64,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)"
      ],
      "metadata": {
        "id": "-IPsgFunnuZM"
      }
    },
    {
      "cell_type": "markdown",
      "source": [
        "$\\gamma(\\tau)=e^{\\imath 2 \\pi \\nu_0 \\tau} \\dfrac{\\sin{(\\pi \\Delta \\nu \\, \\tau)}}{\\pi \\Delta \\nu \\, \\tau}$\n",
        "\n",
        "$\\implies \\gamma_c(\\tau)=\\dfrac{\\sin{(\\pi \\Delta \\nu \\, \\tau)}}{\\pi \\Delta \\nu \\, \\tau}$"
      ],
      "metadata": {
        "id": "Oc-EILeqzt-R"
      }
    },
    {
      "cell_type": "markdown",
      "source": [
        "## Función de Python para calcular la intensidad de las franjas de Young (aproximación)"
      ],
      "metadata": {
        "id": "CiEdVeSX1Dve"
      }
    },
    {
      "cell_type": "code",
      "source": [
        "import numpy as np\n",
        "\n",
        "def intensidad_young(xp,I1,I2,lambda_nm,n,d,D1,D2,xs,gamma_tipo='onda plana'):\n",
        "  # Longitud de onda, k y frecuencia angular\n",
        "  c=299792458.0     #m/s\n",
        "  lambda0=lambda_nm*1e-9\n",
        "  k = 2.0 * np.pi / lambda0\n",
        "  omega0=c*k\n",
        "\n",
        "  # Cálculo de delta\n",
        "  delta= (2.0*np.pi*n/lambda0)*(xs*d/D1+xp*d/D2)\n",
        "\n",
        "  # Se selecciona el tipo de onda (gamma_c)\n",
        "  # Por defecto 'onda plana'\n",
        "  # Se pueden añadir tantas como se quiera\n",
        "  if(gamma_tipo=='onda plana'):\n",
        "    gamma_c=1.0\n",
        "\n",
        "  if(gamma_tipo=='perfil cuadrado'):\n",
        "    tau=delta/omega0\n",
        "    delta_lambda=20.0 #nm # delta_lambda=0.0 --> onda plana\n",
        "    lambda_i=lambda0-delta_lambda*1e-9\n",
        "    lambda_f=lambda0+delta_lambda*1e-9\n",
        "    delta_nu =c*(lambda_i-lambda_f)/(lambda_f*lambda_i)\n",
        "    gamma_c= np.sinc(np.pi*delta_nu*tau/np.pi) #np.sinc(x)=sin(pi*x)/(pi*x)\n",
        "\n",
        "  # Cálculo de la intensidad\n",
        "  return I1+I2+2.0*np.sqrt(I1*I2)*gamma_c*np.cos(delta)"
      ],
      "metadata": {
        "id": "dIwVLUsVe7L7"
      },
      "execution_count": null,
      "outputs": []
    },
    {
      "cell_type": "markdown",
      "source": [
        "# Parámetros geométricos"
      ],
      "metadata": {
        "id": "31WL-PawSmg-"
      }
    },
    {
      "cell_type": "markdown",
      "source": [
        "+ $D_1$   (distancia entre el plano de la fuente en $S$ y el plano que contiene a las aperturas)\n",
        "+ $D_2$  (distancia entre el plano que contiene a las aperturas y la \"pantalla\" de observación)\n",
        "+ $d$  (distancia entre las aperturas)\n",
        "+ $x_s$  (coordenada de la fuente en el eje $x$ )\n",
        "+ $\\lambda$ (longitud de onda)\n",
        "+ $n$ (índice de refracción del medio)"
      ],
      "metadata": {
        "id": "_r612Tx2Q3eY"
      }
    },
    {
      "cell_type": "code",
      "source": [
        "# Intensidades\n",
        "I1,I2=1.0,1.0 # Unidades arbitrarias\n",
        "\n",
        "# Índice de refracción\n",
        "n=1.0\n",
        "\n",
        "# Distancias\n",
        "D1=1.0  # m\n",
        "D2=1.0  # m\n",
        "d=0.001 # m\n",
        "xs=0.0 # m\n",
        "\n",
        "# Parámetros electromagnéticos\n",
        "c=299792458.0     #m/s\n",
        "lambda_nm = 600.0 # nm\n",
        "lambda0=lambda_nm*1e-9\n",
        "k = 2.0 * np.pi / lambda0\n",
        "omega0=c*k\n",
        "\n",
        "print(\"Frecuencia central=\",np.round(omega0*1e-12/(2.0*np.pi),2),\"THz\")\n",
        "\n",
        "# gamma_c\n",
        "gamma_tipo='perfil cuadrado'"
      ],
      "metadata": {
        "id": "zeQjDEdwSplf"
      },
      "execution_count": null,
      "outputs": []
    },
    {
      "cell_type": "markdown",
      "source": [
        "# Experimento de Young en la dirección $x$ ($y=0$)"
      ],
      "metadata": {
        "id": "Hs2F_KgvDsaS"
      }
    },
    {
      "cell_type": "markdown",
      "source": [
        "## Cálculo de la intensidad"
      ],
      "metadata": {
        "id": "x6yoGDdvZ9R7"
      }
    },
    {
      "cell_type": "code",
      "source": [
        "def calc_intensity_pattern():\n",
        "    Xp=400\n",
        "    m=10\n",
        "    xpm = (2*m+1)*lambda0*D2/(2.0*d)-xs*D2/D1\n",
        "    diff_pattern = []\n",
        "    for i in range(Xp):\n",
        "      print(\"x iteration\",i,' of ',Xp)\n",
        "      xp=xpm * (Xp - 2 * i) / Xp\n",
        "      I_analytic=intensidad_young(xp,I1,I2,lambda_nm,n,d,D1,D2,xs,\n",
        "                                  gamma_tipo=gamma_tipo)\n",
        "      diff_pattern.append([xp,I_analytic])\n",
        "    return np.array(diff_pattern)\n",
        "\n",
        "# Calculo de la intensidad\n",
        "intensity_pattern=calc_intensity_pattern()"
      ],
      "metadata": {
        "id": "wPzGpwenEAp2"
      },
      "execution_count": null,
      "outputs": []
    },
    {
      "cell_type": "markdown",
      "source": [
        "## Figura estática"
      ],
      "metadata": {
        "id": "mgEJ9uPPr5y-"
      }
    },
    {
      "cell_type": "code",
      "source": [
        "import matplotlib.pyplot as plt\n",
        "x=intensity_pattern[:,0]\n",
        "y_analytic=intensity_pattern[:,1]\n",
        "plt.plot(x,y_analytic,label='Analytic')\n",
        "\n",
        "plt.xlabel(r'$x$ (m)')\n",
        "plt.ylabel('Intensity')\n",
        "plt.legend()\n",
        "plt.show()"
      ],
      "metadata": {
        "id": "T6Py4-VcDspb"
      },
      "execution_count": null,
      "outputs": []
    },
    {
      "cell_type": "markdown",
      "source": [
        "# Experimento de Young plano $XY$"
      ],
      "metadata": {
        "id": "40xc5XwuN2dy"
      }
    },
    {
      "cell_type": "markdown",
      "source": [
        "## Cálculo de la intensidad"
      ],
      "metadata": {
        "id": "c-6vG45PaHdx"
      }
    },
    {
      "cell_type": "code",
      "source": [
        "def calc_intensity_pattern_2D():\n",
        "    Xp,Yp=400,400\n",
        "    m=10\n",
        "    xpm = (2*m+1)*lambda0*D2/(2.0*d)-xs*D2/D1\n",
        "    ypm = xpm\n",
        "    diff_pattern = []\n",
        "    for i in range(Xp):\n",
        "      print(\"x iteration\",i,' of ',Xp)\n",
        "      xp=xpm * (Xp - 2 * i) / Xp\n",
        "      for j in range(Yp):\n",
        "        yp=ypm * (Yp - 2 * j) / Yp\n",
        "        I_analytic=intensidad_young(xp,I1,I2,lambda_nm,n,d,D1,D2,xs,\n",
        "                                  gamma_tipo=gamma_tipo)\n",
        "        diff_pattern.append([xp,yp,I_analytic])\n",
        "    return np.array(diff_pattern)\n",
        "\n",
        "intensity_pattern_2D=calc_intensity_pattern_2D()"
      ],
      "metadata": {
        "id": "qm2CKK5dro-J"
      },
      "execution_count": null,
      "outputs": []
    },
    {
      "cell_type": "markdown",
      "source": [
        "## Figura estática"
      ],
      "metadata": {
        "id": "4qE5xkHUU9Ry"
      }
    },
    {
      "cell_type": "code",
      "source": [
        "import numpy as np\n",
        "import matplotlib.pyplot as plt\n",
        "\n",
        "# Generate some sample data (replace this with your numpy array)\n",
        "data =intensity_pattern_2D\n",
        "\n",
        "# Extract x, y, and the value from the data\n",
        "x = data[:, 0]\n",
        "y = data[:, 1]\n",
        "value = data[:, 2]\n",
        "\n",
        "# Reshape the value to a 2D grid for contour plotting\n",
        "x_unique = np.unique(x)\n",
        "y_unique = np.unique(y)\n",
        "X, Y = np.meshgrid(x_unique, y_unique)\n",
        "Z = value.reshape(len(y_unique), len(x_unique))\n",
        "\n",
        "\n",
        "# Create a contour plot\n",
        "plt.figure(figsize=(12, 2))\n",
        "max_value=np.max(Z)/1.0\n",
        "contour = plt.contourf(X, Y,  np.rot90(Z), levels=500, cmap='viridis',\n",
        "                       vmax=max_value)\n",
        "plt.colorbar(contour)  # Use scientific notation for colorbar\n",
        "\n",
        "\n",
        "plt.xlabel('X (m)')\n",
        "plt.ylabel('Y (m)')\n",
        "plt.title('Intensity')\n",
        "plt.show()\n"
      ],
      "metadata": {
        "id": "i1N1KpD4NaGo"
      },
      "execution_count": null,
      "outputs": []
    },
    {
      "cell_type": "markdown",
      "source": [
        "## Figura dinámica"
      ],
      "metadata": {
        "id": "qGrtluxkT2Wf"
      }
    },
    {
      "cell_type": "code",
      "source": [
        "import matplotlib.pyplot as plt\n",
        "import numpy as np\n",
        "import ipywidgets as widgets\n",
        "from ipywidgets import interactive\n",
        "from ipywidgets import SelectionSlider\n",
        "\n",
        "def plot_function_with_sliders(f, labels, x_min, y_min,ref_x,max_y,value_scale):\n",
        "    # Extract the parameter names from the function signature, excluding 'x'\n",
        "    # and the last\n",
        "    parameters = list(f.__code__.co_varnames)[1:f.__code__.co_argcount-1]\n",
        "\n",
        "    # Create sliders for each parameter\n",
        "    # Define the base, min exponent, and max exponent for the slider\n",
        "    sliders = {}\n",
        "    i=0\n",
        "    for param in parameters:\n",
        "        #print(\"parameter=\",param)\n",
        "        #print(\"[initial value, min, max, step]=\",value_scale[i])\n",
        "        sliders[param] = widgets.FloatSlider(value=value_scale[i][0],\n",
        "                                             min=value_scale[i][1],\n",
        "                                             max=value_scale[i][2],\n",
        "                                             step=value_scale[i][3],\n",
        "                                             description=param,\n",
        "                                             readout_format='.4f')\n",
        "        i+=1\n",
        "    # Create sliders for x_max and y_max\n",
        "    #print(\"x max\")\n",
        "    #print(\"[initial value, min, max, step]=\",value_scale[i])\n",
        "    x_max_slider = widgets.FloatSlider(value=value_scale[i][0],\n",
        "                                       min=value_scale[i][1],\n",
        "                                       max=value_scale[i][2],\n",
        "                                       step=value_scale[i][3],\n",
        "                                       description='x scale',\n",
        "                                       readout_format='.4f')\n",
        "    i+=1\n",
        "    #print(\"y max\")\n",
        "    #print(\"[initial value, min, max, step]=\",value_scale[i])\n",
        "    y_max_slider = widgets.FloatSlider(value=value_scale[i][0],\n",
        "                                       min=value_scale[i][1],\n",
        "                                       max=value_scale[i][2],\n",
        "                                       step=value_scale[i][3],\n",
        "                                       description='y scale',\n",
        "                                       readout_format='.4f')\n",
        "\n",
        "    # Define a function to update the plot\n",
        "    def update_plot(**kwargs):\n",
        "        N=200\n",
        "        # Extract x, y, and the value from the data\n",
        "        x = np.linspace(x_min-x_max_slider.value, abs(x_min)+x_max_slider.value, N)\n",
        "        y = np.linspace(y_min-y_max_slider.value, abs(y_min)+y_max_slider.value, N)\n",
        "\n",
        "        # Pass slider values as keyword arguments to the input function\n",
        "        params = {param: slider.value for param, slider in sliders.items()}\n",
        "        params['gamma_tipo'] = value_scale[-1][0]\n",
        "\n",
        "        # Cálculo de la función\n",
        "        Z =f(x, **params)\n",
        "\n",
        "        # Reshape the value to a 2D grid for contour plotting\n",
        "        x_unique = np.unique(x)\n",
        "        y_unique = np.unique(y)\n",
        "        X, Y = np.meshgrid(x_unique, y_unique)\n",
        "\n",
        "        # Repeat the row N times to create a (N,N) array\n",
        "        Z = np.tile(Z, (N, 1))\n",
        "\n",
        "        # Result as a (N, N) array\n",
        "        Z = Z.T  # Transpose the array\n",
        "        Z = Z.reshape(len(y_unique), len(x_unique))\n",
        "\n",
        "        # Create a contour plot\n",
        "        plt.figure(figsize=(12, 2))\n",
        "        max_value=np.max(Z)\n",
        "        print(\"Valor mínimo=\",np.min(Z))\n",
        "        print(\"Valor máximo=\",max_value)\n",
        "        contour = plt.contourf(X, Y,  np.rot90(Z), levels=50, cmap='viridis')\n",
        "\n",
        "        # Set the minimum and maximum values for the colorbar\n",
        "        contour.set_clim(0.0,max_value)  # Set the desired min and max values here\n",
        "\n",
        "        plt.colorbar(contour)\n",
        "\n",
        "        plt.xlim((x_min-x_max_slider.value)/ref_x, (abs(x_min)+x_max_slider.value)/ref_x)\n",
        "        plt.ylim((y_min-y_max_slider.value)/ref_x, (abs(y_min)+y_max_slider.value)/ref_x)\n",
        "        plt.xlabel(labels[0])\n",
        "        plt.ylabel(labels[1])\n",
        "        plt.title('Intensity')\n",
        "        plt.show()\n",
        "\n",
        "    # Create an interactive plot with the sliders\n",
        "    interactive_plot = interactive(update_plot, **sliders, x_max=x_max_slider, y_max=y_max_slider)\n",
        "    return interactive_plot"
      ],
      "metadata": {
        "id": "HXhPvAk_T2cu"
      },
      "execution_count": null,
      "outputs": []
    },
    {
      "cell_type": "code",
      "source": [
        "# Example of an input function\n",
        "function=intensidad_young\n",
        "\n",
        "\n",
        "# Define labels, axis limits, and initial parameter values\n",
        "labels = [r'$x(m)$', r'$y(m)$']\n",
        "m=10\n",
        "xpm = (2*m+1)*lambda0*D2/(2.0*d)-xs*D2/D1\n",
        "x_min = -xpm\n",
        "y_min = -xpm\n",
        "max_y = 1.0\n",
        "ref_x = 1.0 #lambda0*D2/d\n",
        "# value_scale (each): [initial value, min,max,step]\n",
        "value_scale=[[I1,1e-4*I1,10*I1,0.01*I1], # I1\n",
        "             [I2,1e-4*I2,10*I2,0.01*I2], # I2\n",
        "             [lambda_nm,0.1*lambda_nm,3.0*lambda_nm,0.1*lambda_nm],      # lambda (wavelength) in nm\n",
        "             [n,1.0,3.5,0.1],           # n\n",
        "             [d,0.1*d,10*d,0.05*d],     # d\n",
        "             [D1,0.1*D1,10*D1,0.05*D1], # D1\n",
        "             [D2,0.1*D2,10*D2,0.05*D2], # D2\n",
        "             [xs,0.0,1e-2,1e-3],        # xs\n",
        "             [-xpm,0.1*xpm,10*xpm,0.05*xpm],    # x scale\n",
        "             [-xpm,0.1*xpm,10*xpm,0.05*xpm],    # y scale\n",
        "             [gamma_tipo]]       # tipo gamma\n",
        "\n",
        "# Create the interactive plot\n",
        "interactive_plot = plot_function_with_sliders(function,\n",
        "                                              labels,\n",
        "                                              x_min, y_min,\n",
        "                                              ref_x,max_y,\n",
        "                                              value_scale)\n",
        "\n",
        "# Display the interactive plot\n",
        "interactive_plot"
      ],
      "metadata": {
        "id": "-yGvE2xSXuHI"
      },
      "execution_count": null,
      "outputs": []
    }
  ]
}